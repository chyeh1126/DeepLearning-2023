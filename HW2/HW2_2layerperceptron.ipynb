{
 "cells": [
  {
   "cell_type": "code",
   "execution_count": 1,
   "metadata": {},
   "outputs": [],
   "source": [
    "import numpy as np\n",
    "import cv2\n",
    "import time\n",
    "import random\n",
    "import matplotlib.pyplot as plt"
   ]
  },
  {
   "cell_type": "code",
   "execution_count": 2,
   "metadata": {},
   "outputs": [],
   "source": [
    "def read_img(file):\n",
    "    img_name_list,label_list = [],[]\n",
    "    with open(file) as f:\n",
    "        for i in f:\n",
    "            img_info = i.split(\" \")\n",
    "            img_name_list.append(img_info[0])\n",
    "            label_list.append(int(img_info[-1]))\n",
    "    return np.array(img_name_list),np.array(label_list)"
   ]
  },
  {
   "cell_type": "code",
   "execution_count": 3,
   "metadata": {},
   "outputs": [],
   "source": [
    "train_img_name_list,train_label = read_img(\"train.txt\")\n",
    "val_img_name_list,val_label = read_img(\"val.txt\")\n",
    "test_img_name_list,test_label = read_img(\"test.txt\")"
   ]
  },
  {
   "cell_type": "code",
   "execution_count": 4,
   "metadata": {},
   "outputs": [],
   "source": [
    "def get_feat(img_list):\n",
    "    # winsize = (128,128)\n",
    "    # blocksize = (64,64)\n",
    "    # blockstride = (32,32)\n",
    "    # cellsize = (32,32)\n",
    "    # nbins = 9\n",
    "    # nlevels = 64\n",
    "    # hog = cv2.HOGDescriptor(winsize,blocksize,blockstride,cellsize,nbins,nlevels)\n",
    "\n",
    "    img_feat_list = []\n",
    "    for i in range(len(img_list)):\n",
    "        # if feat_extractor != \"haralick\":\n",
    "        #     img = cv2.imread(img_list[i])\n",
    "        # else:\n",
    "        img = cv2.imread(img_list[i],cv2.IMREAD_GRAYSCALE)\n",
    "\n",
    "        img = cv2.resize(img,(128,128))\n",
    "\n",
    "        # if feat_extractor == \"color histogram\":\n",
    "        feat = cv2.calcHist(img,[0],None,[64],[0,256])\n",
    "        img_feat = cv2.normalize(feat,feat)\n",
    "        # elif feat_extractor == \"hog\":\n",
    "        #     img_feat = hog.compute(img)\n",
    "        # elif feat_extractor == \"haralick\":\n",
    "        #     img_feat = mahotas.features.haralick(img).mean(axis=0)\n",
    "            \n",
    "        img_feat = img_feat.reshape(-1)\n",
    "        img_feat_list.append(img_feat)\n",
    "    \n",
    "    return np.array(img_feat_list)"
   ]
  },
  {
   "cell_type": "code",
   "execution_count": 5,
   "metadata": {},
   "outputs": [
    {
     "name": "stdout",
     "output_type": "stream",
     "text": [
      "CPU times: user 44.6 s, sys: 2.22 s, total: 46.8 s\n",
      "Wall time: 57.1 s\n"
     ]
    }
   ],
   "source": [
    "%%time\n",
    "train_feat = get_feat(train_img_name_list)\n",
    "val_feat = get_feat(val_img_name_list)\n",
    "test_feat = get_feat(test_img_name_list)"
   ]
  },
  {
   "cell_type": "code",
   "execution_count": 6,
   "metadata": {},
   "outputs": [],
   "source": [
    "def onehot(label_list):\n",
    "    onehot = np.zeros((label_list.size,label_list.max()+1))\n",
    "    onehot[np.arange(label_list.size),label_list] = 1\n",
    "    return onehot"
   ]
  },
  {
   "cell_type": "markdown",
   "metadata": {},
   "source": [
    "# 目標\n",
    "\n",
    "## model\n",
    "\n",
    "- 1-layer perceptron\n",
    "\n",
    "- 2-layer perceptron\n",
    "\n",
    "- modified lenet5\n",
    "\n",
    "## activation function\n",
    "\n",
    "## loss function"
   ]
  },
  {
   "cell_type": "code",
   "execution_count": 8,
   "metadata": {},
   "outputs": [],
   "source": [
    "class sigmoid():\n",
    "    def __init__(self):\n",
    "        pass\n",
    "    def forward(self,x):\n",
    "        self.x = x\n",
    "        self.x1 = -self.x\n",
    "        self.x2 = np.exp(self.x1)\n",
    "        self.x3 = 1 + self.x2\n",
    "        output = 1 / self.x3\n",
    "        return output\n",
    "    def backward(self,upg): # upg:upstream gradient\n",
    "        self.gd3 = upg * (-1 / (self.x3)**2)\n",
    "        self.gd2 = self.gd3 * 1\n",
    "        self.gd1 = self.gd2 * np.exp(self.x1)\n",
    "        self.gd0 = self.gd1 * -1\n",
    "        return self.gd0\n",
    "            \n",
    "class relu():\n",
    "    def __init__(self):\n",
    "        pass\n",
    "    def forward(self,x):\n",
    "        self.x = x\n",
    "        output = np.maximum(0,x)\n",
    "        return output\n",
    "    def backward(self,upgd):\n",
    "        upgd[self.x <= 0] = 0\n",
    "        return upgd\n",
    "    \n",
    "class softmax():\n",
    "    def __init__(self):\n",
    "        pass\n",
    "    def forward(self,pred):\n",
    "        self.x1 = np.exp(pred)\n",
    "        output = self.x1/(self.x1.sum(axis=1)[:,None])\n",
    "        # output = np.exp(pred)/sum(np.exp(pred))\n",
    "        return output\n",
    "    def backward(self,pred,gt_onehot):\n",
    "        # n = diff.shape[0]\n",
    "        # row_sum = diff.sum(axis=1)[:,None]\n",
    "        # self.gd1 = np.zeros((n,n))\n",
    "        # for i in range(n):\n",
    "        #     for j in range(n):\n",
    "        #         self.gd1[i,j] = self.x1[i,j] * (row_sum[i] - np.exp(diff[i,j])) / row_sum[i]\n",
    "        # self.gd1 = diff * self.gd1\n",
    "        # self.gd0 = self.gd1 * np.exp(self.x)\n",
    "        return pred - gt_onehot"
   ]
  },
  {
   "cell_type": "code",
   "execution_count": 9,
   "metadata": {},
   "outputs": [],
   "source": [
    "class crossentropy(): # softmax->neg log likelihood\n",
    "    def __init__(self):\n",
    "        self.softmax = softmax()\n",
    "    def forward(self,pred,gt):\n",
    "        pred = self.softmax.forward(pred)\n",
    "        loss = self.negloglike(pred,gt)\n",
    "        return loss\n",
    "\n",
    "    def negloglike(self,pred,gt):\n",
    "        gt_onehot = self.onehot(gt)\n",
    "        loss_matrix = np.sum(gt_onehot * np.log(pred),axis=1)\n",
    "        loss_sum = round(-sum(loss_matrix),5)\n",
    "        return loss_sum/len(pred)\n",
    "    \n",
    "    def onehot(self,label_list):\n",
    "        onehot = np.zeros((label_list.size,label_list.max()+1))\n",
    "        onehot[np.arange(label_list.size),label_list] = 1\n",
    "        return onehot"
   ]
  },
  {
   "cell_type": "code",
   "execution_count": 10,
   "metadata": {},
   "outputs": [],
   "source": [
    "class linear():\n",
    "    def __init__(self, in_dim, out_dim):\n",
    "        self.weight = np.random.rand(in_dim,out_dim)\n",
    "        self.bias = np.random.rand(out_dim)\n",
    "    def forward(self, x):\n",
    "        self.x = x\n",
    "        output = np.dot(x,self.weight) + self.bias\n",
    "        return output\n",
    "    def backward(self,upgd,learning_rate): # get gradient and update weight\n",
    "        d_out = np.dot(upgd,self.weight.T)\n",
    "        d_weights = np.dot(self.x.T,upgd)\n",
    "        d_bias = np.sum(upgd)\n",
    "        \n",
    "        self.weight -= learning_rate * d_weights\n",
    "        self.bias -= learning_rate * d_bias\n",
    "        \n",
    "        return d_out"
   ]
  },
  {
   "cell_type": "code",
   "execution_count": 11,
   "metadata": {},
   "outputs": [],
   "source": [
    "class twolayerpercep():\n",
    "    def __init__(self,in_dim,hidden_dim,out_dim):\n",
    "        self.lin1 = linear(in_dim,hidden_dim)\n",
    "        self.relu = relu()\n",
    "        self.lin2 = linear(hidden_dim,out_dim)\n",
    "        self.softmax = softmax()\n",
    "    def forward(self,x):\n",
    "        self.x1 = self.lin1.forward(x)\n",
    "        self.a1 = self.relu.forward(self.x1)\n",
    "        self.x2 = self.lin2.forward(self.a1)\n",
    "        self.a2 = self.softmax.forward(self.x2)\n",
    "        return self.a2\n",
    "    def backward(self,pred,gt_onehot,learning_rate):\n",
    "        d_softmax = self.softmax.backward(pred,gt_onehot)\n",
    "        d_lin2 = self.lin2.backward(d_softmax,learning_rate)\n",
    "        d_relu = self.relu.backward(d_lin2)\n",
    "        d_lin1 = self.lin1.backward(d_relu,learning_rate)"
   ]
  },
  {
   "cell_type": "code",
   "execution_count": 12,
   "metadata": {},
   "outputs": [],
   "source": [
    "# data loader\n",
    "# class dataloader():\n",
    "#     def __init__(self,data,label,size,shuffle,drop_last):\n",
    "#         self.x = data\n",
    "#         self.ind = np.arange(self.x.shape[0])\n",
    "#         self.y = label\n",
    "#         self.size = size\n",
    "#         self.random = shuffle\n",
    "#         if self.random:\n",
    "#             random.shuffle(self.ind)\n",
    "#         if drop_last:\n",
    "#             self.max_batch = (len(self.ind)-len(self.ind)%32) / 32\n",
    "#         else:\n",
    "#             self.max_batch = len(self.ind) // len(self.ind)\n",
    "#         self.batch = 0\n",
    "#     def __iter__(self):\n",
    "#         return self\n",
    "#     def __next__(self):\n",
    "#         if self.batch <= self.max_batch:\n",
    "#             batch_ind = self.ind[self.batch*self.size : (self.batch+1)*self.size]\n",
    "#             batch_img = self.x[batch_ind]\n",
    "#             batch_label = self.y[batch_ind]\n",
    "            \n",
    "#         else:\n",
    "#             self.num_batch = 0\n",
    "#             if self.random:\n",
    "#                 random.shuffle(self.ind)\n",
    "#             raise StopIteration\n",
    "        \n",
    "#         return batch_img,batch_label\n",
    "#             # generate x and y, size by batch_size\n",
    "            "
   ]
  },
  {
   "cell_type": "code",
   "execution_count": 13,
   "metadata": {},
   "outputs": [],
   "source": [
    "# train_loader = dataloader(train_feat,train_label,size=32,shuffle=True,drop_last=True)"
   ]
  },
  {
   "cell_type": "code",
   "execution_count": 20,
   "metadata": {},
   "outputs": [],
   "source": [
    "def train(train_x,train_y,val_x,val_y,batch_size,epochs):\n",
    "    model = twolayerpercep(in_dim=64,hidden_dim=50,out_dim=50)\n",
    "    train_acc,train_acc_top5,train_loss = [],[],[]\n",
    "    val_acc,val_acc_top5,val_loss = [],[],[]\n",
    "    train_index = np.arange(train_x.shape[0])\n",
    "    val_index = np.arange(val_x.shape[0])\n",
    "    loss_fn = crossentropy()\n",
    "    best_val_loss = 100\n",
    "    for epoch in range(epochs):\n",
    "        print(\"Epoch:{}\".format(epoch+1))\n",
    "        total_train_step = 0\n",
    "        total_train_loss, total_train_acc, total_train_acc_top5 = 0,0,0\n",
    "        random.shuffle(train_index)\n",
    "        # random.shuffle(val_index)\n",
    "        train_num_batch = len(train_index)//batch_size\n",
    "        val_num_batch = len(val_index)//batch_size\n",
    "        for i in range(train_num_batch):\n",
    "            batch_img = train_x[train_num_batch*batch_size : (train_num_batch+1)*batch_size]\n",
    "            batch_label = train_y[train_num_batch*batch_size : (train_num_batch+1)*batch_size]\n",
    "            output = model.forward(batch_img)\n",
    "            # evaluate performance\n",
    "            loss = loss_fn.forward(output,batch_label)\n",
    "            total_train_loss += loss\n",
    "            acc = (output.argmax(1) == batch_label).sum()\n",
    "            total_train_acc += acc\n",
    "            acc_top5 = len([i for i in range(len(batch_label)) if batch_label[i] in np.argsort(-output,axis=1)[i,:5]])\n",
    "            total_train_acc_top5 += acc_top5\n",
    "            batch_label_onehot = onehot(batch_label)\n",
    "            model.backward(output,batch_label_onehot,learning_rate=0.001)\n",
    " \n",
    "            total_train_step += 1\n",
    "            if (total_train_step+1)%1000 == 0:\n",
    "                print(\"Train step:{}, Train loss:{}\".format(total_train_step+1,loss))\n",
    "        train_acc.append(total_train_acc/len(train_y))\n",
    "        train_acc_top5.append(total_train_acc_top5/len(train_y))\n",
    "        train_loss.append(total_train_loss/train_num_batch)\n",
    "        \n",
    "        \n",
    "        # Validation\n",
    "        total_val_loss = 0\n",
    "        total_val_acc = 0\n",
    "        total_val_acc_top5 = 0\n",
    "        for i in range(val_num_batch):\n",
    "            val_batch_img = val_x[val_num_batch*batch_size : (val_num_batch+1)*batch_size]\n",
    "            val_batch_label = val_y[val_num_batch*batch_size : (val_num_batch+1)*batch_size]\n",
    "            output = model.forward(val_batch_img)\n",
    "            loss = loss_fn.forward(output,val_batch_label)\n",
    "            total_val_loss += loss\n",
    "            acc = (output.argmax(1) == val_batch_label).sum()\n",
    "            total_val_acc += acc\n",
    "            acc_top5 = len([i for i in range(len(val_batch_label)) if val_batch_label[i] in np.argsort(-output,axis=1)[i,:5]])\n",
    "            total_val_acc_top5 += acc_top5\n",
    "        val_acc.append(total_val_acc/len(val_y))\n",
    "        val_acc_top5.append(total_val_acc_top5/len(val_y))\n",
    "        val_loss.append(total_val_loss/val_num_batch)\n",
    "        \n",
    "        if total_val_loss/val_num_batch < best_val_loss:\n",
    "            best_val_loss = total_val_loss/val_num_batch\n",
    "            # weight = model.state_dict()\n",
    "            print(\"Validation loss:{}, Validation accuracy:{}\".format(best_val_loss,total_val_acc/len(val_y)))\n",
    "            # total_val_step += 1\n",
    "        \n",
    "        # torch.save(weight,\"hw2_best_mod.pth\")\n",
    "        \n",
    "    return train_acc, train_acc_top5, train_loss, val_acc, val_acc_top5, val_loss"
   ]
  },
  {
   "cell_type": "code",
   "execution_count": 21,
   "metadata": {},
   "outputs": [
    {
     "name": "stdout",
     "output_type": "stream",
     "text": [
      "Epoch:1\n",
      "Train step:1000, Train loss:2.946085172413793\n",
      "Validation loss:2.9458150000000005, Validation accuracy:0.06222222222222222\n",
      "Epoch:2\n",
      "Train step:1000, Train loss:2.945891724137931\n",
      "Epoch:3\n",
      "Train step:1000, Train loss:2.945856896551724\n",
      "Validation loss:2.9458100000000007, Validation accuracy:0.06222222222222222\n",
      "Epoch:4\n",
      "Train step:1000, Train loss:2.9458427586206897\n",
      "Epoch:5\n",
      "Train step:1000, Train loss:2.9458351724137932\n",
      "Epoch:6\n",
      "Train step:1000, Train loss:2.9458306896551725\n",
      "Epoch:7\n",
      "Train step:1000, Train loss:2.9458272413793103\n",
      "Epoch:8\n",
      "Train step:1000, Train loss:2.9458251724137927\n",
      "Epoch:9\n",
      "Train step:1000, Train loss:2.9458234482758625\n",
      "Epoch:10\n",
      "Train step:1000, Train loss:2.945822068965517\n",
      "Epoch:11\n",
      "Train step:1000, Train loss:2.9458210344827584\n",
      "Epoch:12\n",
      "Train step:1000, Train loss:2.9458200000000003\n",
      "Epoch:13\n",
      "Train step:1000, Train loss:2.9458193103448274\n",
      "Epoch:14\n",
      "Train step:1000, Train loss:2.9458186206896553\n",
      "Epoch:15\n",
      "Train step:1000, Train loss:2.9458179310344828\n",
      "Epoch:16\n",
      "Train step:1000, Train loss:2.9458175862068963\n",
      "Epoch:17\n",
      "Train step:1000, Train loss:2.9458172413793107\n",
      "Epoch:18\n",
      "Train step:1000, Train loss:2.945816896551724\n",
      "Epoch:19\n",
      "Train step:1000, Train loss:2.945816551724138\n",
      "Epoch:20\n",
      "Train step:1000, Train loss:2.9458162068965517\n",
      "Epoch:21\n",
      "Train step:1000, Train loss:2.945815862068965\n",
      "Epoch:22\n",
      "Train step:1000, Train loss:2.945815862068965\n",
      "Epoch:23\n",
      "Train step:1000, Train loss:2.9458155172413796\n",
      "Epoch:24\n",
      "Train step:1000, Train loss:2.945815172413793\n",
      "Epoch:25\n",
      "Train step:1000, Train loss:2.945815172413793\n",
      "Epoch:26\n",
      "Train step:1000, Train loss:2.945814827586207\n",
      "Epoch:27\n",
      "Train step:1000, Train loss:2.945814827586207\n",
      "Epoch:28\n",
      "Train step:1000, Train loss:2.945814827586207\n",
      "Epoch:29\n",
      "Train step:1000, Train loss:2.9458144827586206\n",
      "Epoch:30\n",
      "Train step:1000, Train loss:2.9458144827586206\n",
      "Epoch:31\n",
      "Train step:1000, Train loss:2.9458144827586206\n",
      "Epoch:32\n",
      "Train step:1000, Train loss:2.9458141379310345\n",
      "Epoch:33\n",
      "Train step:1000, Train loss:2.9458141379310345\n",
      "Epoch:34\n",
      "Train step:1000, Train loss:2.9458141379310345\n",
      "Epoch:35\n",
      "Train step:1000, Train loss:2.9458141379310345\n",
      "Epoch:36\n",
      "Train step:1000, Train loss:2.9458137931034485\n",
      "Epoch:37\n",
      "Train step:1000, Train loss:2.9458137931034485\n",
      "Epoch:38\n",
      "Train step:1000, Train loss:2.9458137931034485\n",
      "Epoch:39\n",
      "Train step:1000, Train loss:2.9458137931034485\n",
      "Epoch:40\n",
      "Train step:1000, Train loss:2.945813448275862\n",
      "Epoch:41\n",
      "Train step:1000, Train loss:2.945813448275862\n",
      "Epoch:42\n",
      "Train step:1000, Train loss:2.945813448275862\n",
      "Epoch:43\n",
      "Train step:1000, Train loss:2.945813448275862\n",
      "Epoch:44\n",
      "Train step:1000, Train loss:2.945813448275862\n",
      "Epoch:45\n",
      "Train step:1000, Train loss:2.945813448275862\n",
      "Epoch:46\n",
      "Train step:1000, Train loss:2.945813448275862\n",
      "Epoch:47\n",
      "Train step:1000, Train loss:2.945813103448276\n",
      "Epoch:48\n",
      "Train step:1000, Train loss:2.945813103448276\n",
      "Epoch:49\n",
      "Train step:1000, Train loss:2.945813103448276\n",
      "Epoch:50\n",
      "Train step:1000, Train loss:2.945813103448276\n",
      "CPU times: user 2min 21s, sys: 30.8 ms, total: 2min 21s\n",
      "Wall time: 2min 21s\n"
     ]
    }
   ],
   "source": [
    "%%time\n",
    "training_result = train(train_feat,train_label,val_feat,val_label,batch_size=32,epochs=50)"
   ]
  },
  {
   "cell_type": "code",
   "execution_count": 22,
   "metadata": {},
   "outputs": [
    {
     "data": {
      "image/png": "[encoded data removed]",
      "text/plain": [
       "<Figure size 600x400 with 1 Axes>"
      ]
     },
     "metadata": {},
     "output_type": "display_data"
    }
   ],
   "source": [
    "plt.figure(figsize=(6,4))\n",
    "plt.plot(training_result[2],label=\"Training\")\n",
    "plt.plot(training_result[5],label=\"Validation\")\n",
    "plt.xlabel(\"Epoch\")\n",
    "plt.ylabel(\"Loss\")\n",
    "plt.title(\"Training/Validation loss\")\n",
    "plt.legend()\n",
    "plt.show()"
   ]
  },
  {
   "cell_type": "code",
   "execution_count": 23,
   "metadata": {},
   "outputs": [
    {
     "data": {
      "image/png": "[encoded data removed]",
      "text/plain": [
       "<Figure size 600x400 with 1 Axes>"
      ]
     },
     "metadata": {},
     "output_type": "display_data"
    }
   ],
   "source": [
    "plt.figure(figsize=(6,4))\n",
    "plt.plot(training_result[1],label=\"Training\")\n",
    "plt.plot(training_result[4],label=\"Validation\")\n",
    "plt.xlabel(\"Epoch\")\n",
    "plt.ylabel(\"Top-5 Accuracy\")\n",
    "plt.title(\"Training/Validation Top-5 Accuracy\")\n",
    "plt.legend()\n",
    "plt.show()"
   ]
  },
  {
   "cell_type": "code",
   "execution_count": 24,
   "metadata": {},
   "outputs": [
    {
     "data": {
      "image/png": "[encoded data removed]",
      "text/plain": [
       "<Figure size 600x400 with 1 Axes>"
      ]
     },
     "metadata": {},
     "output_type": "display_data"
    }
   ],
   "source": [
    "plt.figure(figsize=(6,4))\n",
    "plt.plot(training_result[1],label=\"Training\")\n",
    "plt.plot(training_result[4],label=\"Validation\")\n",
    "plt.xlabel(\"Epoch\")\n",
    "plt.ylabel(\"Top-1 Accuracy\")\n",
    "plt.title(\"Training/Validation Top-1 Accuracy\")\n",
    "plt.legend()\n",
    "plt.show()"
   ]
  },
  {
   "cell_type": "code",
   "execution_count": 26,
   "metadata": {},
   "outputs": [
    {
     "name": "stdout",
     "output_type": "stream",
     "text": [
      "Test top1 accuracy:0.03111111111111111\n",
      "Test top5 accuracy:0.06222222222222222\n"
     ]
    }
   ],
   "source": [
    "model = twolayerpercep(in_dim=64,hidden_dim=64,out_dim=50)\n",
    "total_test_acc = 0\n",
    "total_test_acc_top5 = 0\n",
    "test_index = np.arange(len(test_label))\n",
    "test_num_batch = len(test_index)//32\n",
    "\n",
    "for data in range(test_num_batch):\n",
    "    test_batch_img = test_feat[test_num_batch*32 : (test_num_batch+1)*32]\n",
    "    test_batch_label = test_label[test_num_batch*32 : (test_num_batch+1)*32]\n",
    "\n",
    "    output = model.forward(test_batch_img)\n",
    "    test_correct = (output.argmax(1) == test_batch_label).sum()\n",
    "    total_test_acc += test_correct\n",
    "    acc_top5 = len([i for i in range(len(test_batch_label)) if test_batch_label[i] in np.argsort(-output,axis=1)[i,:5]])\n",
    "    total_test_acc_top5 += acc_top5\n",
    "print(\"Test top1 accuracy:{}\".format(total_test_acc/len(test_index)))\n",
    "print(\"Test top5 accuracy:{}\".format(total_test_acc_top5/len(test_index)))"
   ]
  }
 ],
 "metadata": {
  "kernelspec": {
   "display_name": "chywork",
   "language": "python",
   "name": "chywork"
  },
  "language_info": {
   "codemirror_mode": {
    "name": "ipython",
    "version": 3
   },
   "file_extension": ".py",
   "mimetype": "text/x-python",
   "name": "python",
   "nbconvert_exporter": "python",
   "pygments_lexer": "ipython3",
   "version": "3.9.13"
  }
 },
 "nbformat": 4,
 "nbformat_minor": 4
}
