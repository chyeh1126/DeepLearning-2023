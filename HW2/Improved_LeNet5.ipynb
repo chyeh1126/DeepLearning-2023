{
 "cells": [
  {
   "cell_type": "code",
   "execution_count": 1,
   "id": "ec699149-f63b-421b-8b92-651ded265ecf",
   "metadata": {},
   "outputs": [],
   "source": [
    "import numpy as np\n",
    "import cv2\n",
    "import time\n",
    "import random\n",
    "import os\n",
    "from tqdm import tqdm\n",
    "import matplotlib.pyplot as plt"
   ]
  },
  {
   "cell_type": "markdown",
   "id": "241db4b3-b548-44a6-add3-1edf9abb5111",
   "metadata": {},
   "source": [
    "Activation function: x = Sigmoid(x) ==> x = x*sigmoid(x)  \n",
    "Kernel size: 5x5 ==> 3x3  \n",
    "Increase one convolution layer to LeNet5 (any position).  \n"
   ]
  },
  {
   "cell_type": "code",
   "execution_count": 2,
   "id": "0135ed0e-f9cc-4b33-89ca-b8e1627270d0",
   "metadata": {},
   "outputs": [],
   "source": [
    "class xsigmoid():\n",
    "    def __init__(self):\n",
    "        pass\n",
    "    def forward(self,x):\n",
    "        self.x = x\n",
    "        output = x / (1+np.exp(-x))\n",
    "        return output\n",
    "    def backward(self,upg): # upg:upstream gradient\n",
    "        x = self.x\n",
    "        gd = upg * (1+np.exp(-x)+x*np.exp(-x)) / (1+np.exp(-x))**2\n",
    "        return gd"
   ]
  },
  {
   "cell_type": "code",
   "execution_count": 3,
   "id": "7c07c17f-c9e7-47ad-90d6-e28d5b5f62df",
   "metadata": {},
   "outputs": [],
   "source": [
    "def read_img(file):\n",
    "    img_feat_list,label_list = [],[]\n",
    "    with open(file) as f:\n",
    "        for i in f:\n",
    "            img_info = i.split(\" \")\n",
    "            img_name = img_info[0]\n",
    "            img = cv2.imread(img_name,cv2.IMREAD_GRAYSCALE)\n",
    "            img = cv2.resize(img,(128,128))\n",
    "            img_feat = img/255.0\n",
    "            img_feat_list.append(img_feat)\n",
    "            \n",
    "            label = int(img_info[-1])\n",
    "            label_onehot = np.zeros(50)\n",
    "            label_onehot[label] = 1\n",
    "            label_list.append(label_onehot)\n",
    "    return np.array(img_feat_list),np.array(label_list)"
   ]
  },
  {
   "cell_type": "code",
   "execution_count": 4,
   "id": "8b8f4c91-5a8c-4823-8ee5-98713eeba486",
   "metadata": {},
   "outputs": [
    {
     "name": "stdout",
     "output_type": "stream",
     "text": [
      "CPU times: user 1min 7s, sys: 21.8 s, total: 1min 29s\n",
      "Wall time: 3min 50s\n"
     ]
    }
   ],
   "source": [
    "%%time\n",
    "train_feat,train_label = read_img(\"train.txt\")\n",
    "val_feat,val_label = read_img(\"val.txt\")\n",
    "test_feat,test_label = read_img(\"test.txt\")"
   ]
  },
  {
   "cell_type": "markdown",
   "id": "37b00a88-a3ad-4415-8166-bf9709ae57e1",
   "metadata": {},
   "source": [
    "# Reference：https://github.com/chuanqi305/LeNet5"
   ]
  },
  {
   "cell_type": "code",
   "execution_count": 5,
   "id": "abd1e942-638b-4f04-8365-e62133164866",
   "metadata": {},
   "outputs": [],
   "source": [
    "class Trainable(object):\n",
    "    learning_rate = 0.0003\n",
    "    learning_rate_decay = 0.001\n",
    "    momentum = 0.95\n",
    "    epoch = 10\n",
    "    batch_size = 32\n",
    "    weight_decay = 0.001\n",
    "\n",
    "    def __init__(self):\n",
    "        self.weight_diff = 0\n",
    "        self.bias_diff = 0\n",
    "\n",
    "    def sgd_momentum(self, weight_diff, bias_diff):\n",
    "        self.weight_diff = self.momentum * self.weight_diff + (1 - self.momentum) * weight_diff\n",
    "        self.bias_diff = self.momentum * self.bias_diff + (1 - self.momentum) * bias_diff\n",
    "        return self.weight_diff, self.bias_diff"
   ]
  },
  {
   "cell_type": "code",
   "execution_count": 6,
   "id": "cae0dcde-1493-4c32-9118-35faee7ea53f",
   "metadata": {},
   "outputs": [],
   "source": [
    "class Conv(Trainable):\n",
    "    def __init__(self, name, kernel, inc, outc, padding):\n",
    "        super(Conv, self).__init__()\n",
    "        self.name = name\n",
    "        self.kernel = kernel\n",
    "        self.inc = inc\n",
    "        self.outc = outc\n",
    "        self.weight = np.random.randn(kernel, kernel, inc, outc) * np.sqrt(2.0 / (kernel * kernel * inc)) #msra\n",
    "        self.bias = np.zeros(outc)\n",
    "        self.padding = padding\n",
    "\n",
    "    def forward(self, x):\n",
    "        self.x = x\n",
    "        # print(self.x.shape)\n",
    "        k = self.kernel\n",
    "        n, h, w, c = x.shape\n",
    "        h_out = h - (k - 1)\n",
    "        w_out = w - (k - 1)\n",
    "        weight = self.weight.reshape(-1, self.outc)\n",
    "        output = np.zeros((n, h_out, w_out, self.outc))\n",
    "        for i in range(h_out):\n",
    "            for j in range(w_out):\n",
    "                inp = x[:, i:i+k, j:j+k, :].reshape(n, -1)\n",
    "                out = inp.dot(weight) + self.bias\n",
    "                output[:, i, j, :] = out.reshape(n, -1)\n",
    "        return output\n",
    "\n",
    "    def backward(self, diff):\n",
    "        if self.padding:\n",
    "            diff = diff[::,:-1,:-1,::]\n",
    "        n, h, w, c = diff.shape\n",
    "        k = self.kernel\n",
    "\n",
    "        #     h_in = h + (k - 1) - self.padding\n",
    "        #     w_in = w + (k - 1) - self.padding\n",
    "        # else:\n",
    "        h_in = h + (k - 1)\n",
    "        w_in = w + (k - 1)\n",
    "        weight_diff = np.zeros((k, k, self.inc, self.outc))\n",
    "        for i in range(k):\n",
    "            for j in range(k):\n",
    "                #inp = (n, 28, 28, c) => (n*28*28, c) => (c, n*28*28)\n",
    "                inp = self.x[:, i:i+h, j:j+w, :].reshape(-1, self.inc).T\n",
    "                #diff = n, 28, 28, 6 => (n*28*28, 6)\n",
    "                diff_out = diff.reshape(-1, self.outc)\n",
    "                weight_diff[i, j, :, :] = inp.dot(diff_out)\n",
    "        bias_diff = np.sum(diff, axis=(0, 1, 2))\n",
    "\n",
    "        pad = k - 1\n",
    "        diff_pad = np.pad(diff, ((0, 0), (pad, pad), (pad, pad), (0, 0)), 'constant')\n",
    "        rotated_weight = self.weight[::-1, ::-1, :, :].transpose(0, 1, 3, 2).reshape(-1, self.inc)\n",
    "        back_diff = np.zeros((n, h_in, w_in, self.inc))\n",
    "        for i in range(h_in):\n",
    "            for j in range(w_in):\n",
    "                diff_out = diff_pad[:, i:i+k, j:j+k, :].reshape(n, -1)\n",
    "                out = diff_out.dot(rotated_weight)\n",
    "                back_diff[:, i, j, :] = out.reshape(n, -1)\n",
    "\n",
    "        weight_diff, bias_diff = self.sgd_momentum(weight_diff, bias_diff)\n",
    "        self.weight -= Trainable.learning_rate * weight_diff + Trainable.weight_decay * self.weight\n",
    "        self.bias -= Trainable.learning_rate * bias_diff + Trainable.weight_decay * self.bias\n",
    "\n",
    "        return back_diff"
   ]
  },
  {
   "cell_type": "code",
   "execution_count": 7,
   "id": "b2a78ff2-0d37-46cf-ad2a-08b353fab3fd",
   "metadata": {},
   "outputs": [],
   "source": [
    "class Pooling():\n",
    "    def __init__(self,padding):\n",
    "        self.padding = padding\n",
    "    def forward(self, x):\n",
    "        if self.padding > 0:\n",
    "            n = self.padding\n",
    "            x = np.pad(x,((0,0),(n,0),(n,0),(0,0)),\"constant\")\n",
    "        # print(x.shape)\n",
    "        n, h, w, c = x.shape\n",
    "        x_grid = x.reshape(n, h // 2, 2, w // 2, 2, c)\n",
    "        out = np.max(x_grid, axis=(2, 4))\n",
    "        self.mask = (out.reshape(n, h // 2, 1, w // 2, 1, c) == x_grid)\n",
    "        return out\n",
    "\n",
    "    def backward(self, diff):\n",
    "        n, h, w, c = diff.shape\n",
    "        diff_grid = diff.reshape(n, h, 1, w, 1, c)\n",
    "        return (diff_grid * self.mask).reshape(n, h * 2, w * 2, c)"
   ]
  },
  {
   "cell_type": "code",
   "execution_count": 8,
   "id": "1f2a824c-d63e-437b-81f1-c7158194beeb",
   "metadata": {},
   "outputs": [],
   "source": [
    "class ReLU():\n",
    "    def forward(self, x):\n",
    "        self.x = x\n",
    "        return (x > 0) * x\n",
    "\n",
    "    def backward(self, diff):\n",
    "        return (self.x > 0) * diff"
   ]
  },
  {
   "cell_type": "code",
   "execution_count": 9,
   "id": "1f74b4ea-bdca-47b9-bcef-37add5bb3ab6",
   "metadata": {},
   "outputs": [],
   "source": [
    "class FC(Trainable):\n",
    "    def __init__(self, name, inc, outc):\n",
    "        super(FC, self).__init__()\n",
    "        self.name = name\n",
    "        self.weight = np.random.randn(inc, outc) * np.sqrt(2.0 / inc) #msra\n",
    "        self.bias = np.zeros(outc)\n",
    "\n",
    "    def forward(self, x):\n",
    "        self.origin_shape = x.shape\n",
    "        if x.ndim == 4:\n",
    "            x = x.reshape(x.shape[0], -1)\n",
    "        self.x = x\n",
    "        return x.dot(self.weight) + self.bias\n",
    "   \n",
    "    def backward(self, diff):\n",
    "        #diff = (n, 10)\n",
    "        #self.x = (n, 1024) => (1024, n)\n",
    "        weight_diff = self.x.T.dot(diff)\n",
    "        bias_diff = np.sum(diff, axis=0)\n",
    "        #weight = (1024, 10) => (10, 1024), back_diff = (n, 1024)\n",
    "        back_diff = diff.dot(self.weight.T).reshape(self.origin_shape)\n",
    "\n",
    "        weight_diff, bias_diff = self.sgd_momentum(weight_diff, bias_diff)\n",
    "        self.weight -= Trainable.learning_rate * weight_diff + Trainable.weight_decay * self.weight\n",
    "        self.bias -= Trainable.learning_rate * bias_diff + Trainable.weight_decay * self.bias\n",
    "        return back_diff"
   ]
  },
  {
   "cell_type": "code",
   "execution_count": 10,
   "id": "c864e6ea-7068-429c-87ae-51dc4ab515e7",
   "metadata": {},
   "outputs": [],
   "source": [
    "class SoftmaxLoss():\n",
    "    def forward(self, x):\n",
    "        softmax = np.exp(x) / np.sum(np.exp(x), axis=1).reshape(-1, 1)\n",
    "        self.softmax = softmax\n",
    "        # output = np.argmax(softmax, axis=1)\n",
    "        if not hasattr(self, 'y'):\n",
    "            return softmax\n",
    "        y = self.y\n",
    "        label = np.argmax(y, axis=1)\n",
    "        loss = -np.sum(y * np.log(softmax) + (1 - y) * np.log(1 - softmax))\n",
    "        # accuracy = np.sum(output==label) / float(len(label))\n",
    "        accuracy = (softmax.argmax(1) == label).sum()\n",
    "        accuracy_top5 = len([i for i in range(len(label)) if label[i] in np.argsort(-softmax,axis=1)[i,:5]])\n",
    "        return loss, accuracy, accuracy_top5\n",
    "\n",
    "    def backward(self, diff):\n",
    "        return self.softmax - self.y\n",
    "\n",
    "    def set_label(self, label):\n",
    "        self.y = label"
   ]
  },
  {
   "cell_type": "code",
   "execution_count": 11,
   "id": "f1cedeca-bda0-488b-aae4-b3bb2a5e005a",
   "metadata": {},
   "outputs": [],
   "source": [
    "class LeNet:\n",
    "    def __init__(self):\n",
    "        conv1 = Conv(\"conv1\", 3, 1, 6, padding = 0)\n",
    "        pool1 = Pooling(padding=0)\n",
    "        xsigmoid1 = xsigmoid()\n",
    "        conv2 = Conv(\"conv2\", 3, 6, 16, padding = 1)\n",
    "        pool2 = Pooling(padding=1)\n",
    "        xsigmoid2 = xsigmoid()\n",
    "        conv3 = Conv(\"conv3\", 3, 16, 32, padding = 0)\n",
    "        # pool3 = Pooling()\n",
    "        xsigmoid3 = xsigmoid()\n",
    "        fc4 = FC(\"fc4\", 29*29*32, 120)\n",
    "        xsigmoid4 = xsigmoid()\n",
    "        fc5 = FC(\"fc5\", 120, 84)\n",
    "        xsigmoid5 = xsigmoid()\n",
    "        fc6 = FC(\"fc6\", 84, 50)\n",
    "        loss = SoftmaxLoss()\n",
    "        self.layers = [conv1, pool1, xsigmoid1, conv2, pool2, xsigmoid2, conv3, xsigmoid3, fc4, xsigmoid4, fc5, xsigmoid5, fc6, loss]\n",
    "\n",
    "    def train(self, train_images, train_labels, val_images, val_labels):\n",
    "        \n",
    "        batch_size = Trainable.batch_size\n",
    "        train_index = np.arange(train_images.shape[0])\n",
    "        val_index = np.arange(val_images.shape[0])\n",
    "        train_num_batch = len(train_index)//batch_size\n",
    "        val_num_batch = len(val_index)//batch_size\n",
    "        train_acc, train_acc_top5, train_loss = [],[],[]\n",
    "        val_acc, val_acc_top5, val_loss = [],[],[]\n",
    "        for i in tqdm(range(Trainable.epoch)):\n",
    "            random.shuffle(train_index)\n",
    "            train_images = train_images[train_index]\n",
    "            train_labels = train_labels[train_index]\n",
    "            total_train_acc, total_train_acc_top5, total_train_loss = 0,0,0\n",
    "            for j in range(train_num_batch):\n",
    "                x = train_images[j*batch_size : (j+1)*batch_size]\n",
    "                y = train_labels[j*batch_size : (j+1)*batch_size]\n",
    "            # x = images[index:index + batch_size] #mini batch sgd\n",
    "            # y = labels[index:index + batch_size]\n",
    "            # index += batch_size\n",
    "            # index = index % len(images)\n",
    "\n",
    "                loss = self.layers[-1]\n",
    "                loss.set_label(y)\n",
    "\n",
    "                for layer in self.layers:\n",
    "                    # print(x.shape)\n",
    "                    x = layer.forward(x)\n",
    "                # collect loss,accuracy from each mini batch\n",
    "                total_train_loss += x[0]\n",
    "                total_train_acc += x[1]\n",
    "                total_train_acc_top5 += x[2]\n",
    "                \n",
    "                if (j+1)%200 == 0:\n",
    "                    print(\"step %d: loss=%.6f, accuracy=%.4f, lr=%g\" % (j+1, x[0]/batch_size, x[1]/batch_size, Trainable.learning_rate))\n",
    "                \n",
    "                diff = 1.0\n",
    "                for layer in reversed(self.layers):\n",
    "                    diff = layer.backward(diff)\n",
    "                Trainable.learning_rate *= (1 - Trainable.learning_rate_decay)\n",
    "                \n",
    "            train_loss.append(total_train_loss/len(train_labels))\n",
    "            train_acc.append(total_train_acc/len(train_labels))\n",
    "            train_acc_top5.append(total_train_acc_top5/len(train_labels))\n",
    "            \n",
    "            \n",
    "            \n",
    "            del loss.y\n",
    "            \n",
    "            total_val_acc, total_val_acc_top5, total_val_loss = 0,0,0\n",
    "            for j in range(val_num_batch):\n",
    "                x = val_images[j*batch_size : (j+1)*batch_size]\n",
    "                y = val_labels[j*batch_size : (j+1)*batch_size]\n",
    "                for layer in self.layers:\n",
    "                    x = layer.forward(x)\n",
    "                loss_value = -np.sum(y * np.log(x) + (1 - y) * np.log(1 - x))\n",
    "                total_val_loss += loss_value\n",
    "                label = np.argmax(y, axis=1)\n",
    "                acc = (x.argmax(1) == label).sum()\n",
    "                total_val_acc += acc\n",
    "                acc_top5 = len([k for k in range(len(label)) if label[k] in np.argsort(-x,axis=1)[k,:5]])\n",
    "                total_val_acc_top5 += acc_top5\n",
    "            val_loss.append(total_val_loss/len(val_labels))\n",
    "            val_acc.append(total_val_acc/len(val_labels))\n",
    "            val_acc_top5.append(total_val_acc_top5/len(val_labels))\n",
    "                \n",
    "                \n",
    "        return train_loss, train_acc, train_acc_top5, val_loss, val_acc, val_acc_top5\n",
    "    def predict(self, images):\n",
    "        x = images\n",
    "        for layer in self.layers:\n",
    "            x = layer.forward(x)\n",
    "        return x"
   ]
  },
  {
   "cell_type": "code",
   "execution_count": 12,
   "id": "b6ccf72a-5b76-4694-a2d5-906b561d12e0",
   "metadata": {},
   "outputs": [
    {
     "name": "stderr",
     "output_type": "stream",
     "text": [
      "  0%|          | 0/10 [00:00<?, ?it/s]"
     ]
    },
    {
     "name": "stdout",
     "output_type": "stream",
     "text": [
      "step 200: loss=4.904014, accuracy=0.0312, lr=0.00024584\n",
      "step 400: loss=4.901886, accuracy=0.0312, lr=0.000201257\n",
      "step 600: loss=4.899306, accuracy=0.0938, lr=0.000164759\n",
      "step 800: loss=4.900813, accuracy=0.0000, lr=0.00013488\n",
      "step 1000: loss=4.903798, accuracy=0.0000, lr=0.000110419\n",
      "step 1200: loss=4.901551, accuracy=0.0312, lr=9.03944e-05\n",
      "step 1400: loss=4.901913, accuracy=0.0312, lr=7.40013e-05\n",
      "step 1600: loss=4.901196, accuracy=0.0000, lr=6.05811e-05\n",
      "step 1800: loss=4.902125, accuracy=0.0000, lr=4.95946e-05\n"
     ]
    },
    {
     "name": "stderr",
     "output_type": "stream",
     "text": [
      " 10%|█         | 1/10 [28:27<4:16:10, 1707.86s/it]"
     ]
    },
    {
     "name": "stdout",
     "output_type": "stream",
     "text": [
      "step 200: loss=4.902066, accuracy=0.0312, lr=3.39773e-05\n",
      "step 400: loss=4.901494, accuracy=0.0312, lr=2.78155e-05\n",
      "step 600: loss=4.902081, accuracy=0.0000, lr=2.27711e-05\n",
      "step 800: loss=4.901717, accuracy=0.0000, lr=1.86416e-05\n",
      "step 1000: loss=4.901664, accuracy=0.0000, lr=1.52609e-05\n",
      "step 1200: loss=4.901738, accuracy=0.0312, lr=1.24933e-05\n",
      "step 1400: loss=4.901846, accuracy=0.0000, lr=1.02276e-05\n",
      "step 1600: loss=4.901950, accuracy=0.0625, lr=8.37284e-06\n",
      "step 1800: loss=4.901744, accuracy=0.0312, lr=6.85441e-06\n"
     ]
    },
    {
     "name": "stderr",
     "output_type": "stream",
     "text": [
      " 20%|██        | 2/10 [57:07<3:48:37, 1714.69s/it]"
     ]
    },
    {
     "name": "stdout",
     "output_type": "stream",
     "text": [
      "step 200: loss=4.901885, accuracy=0.0000, lr=4.69596e-06\n",
      "step 400: loss=4.901830, accuracy=0.0000, lr=3.84435e-06\n",
      "step 600: loss=4.901957, accuracy=0.0625, lr=3.14717e-06\n",
      "step 800: loss=4.902046, accuracy=0.0312, lr=2.57643e-06\n",
      "step 1000: loss=4.901864, accuracy=0.0938, lr=2.10919e-06\n",
      "step 1200: loss=4.901892, accuracy=0.0312, lr=1.72668e-06\n",
      "step 1400: loss=4.901922, accuracy=0.0312, lr=1.41355e-06\n",
      "step 1600: loss=4.901984, accuracy=0.0000, lr=1.1572e-06\n",
      "step 1800: loss=4.902025, accuracy=0.0000, lr=9.4734e-07\n"
     ]
    },
    {
     "name": "stderr",
     "output_type": "stream",
     "text": [
      " 30%|███       | 3/10 [1:26:01<3:21:05, 1723.61s/it]"
     ]
    },
    {
     "name": "stdout",
     "output_type": "stream",
     "text": [
      "step 200: loss=4.901924, accuracy=0.0312, lr=6.49024e-07\n",
      "step 400: loss=4.901941, accuracy=0.0312, lr=5.31322e-07\n",
      "step 600: loss=4.901933, accuracy=0.0000, lr=4.34967e-07\n",
      "step 800: loss=4.901956, accuracy=0.0938, lr=3.56085e-07\n",
      "step 1000: loss=4.901947, accuracy=0.0000, lr=2.91508e-07\n",
      "step 1200: loss=4.901949, accuracy=0.0312, lr=2.38643e-07\n",
      "step 1400: loss=4.901949, accuracy=0.0000, lr=1.95365e-07\n",
      "step 1600: loss=4.901951, accuracy=0.0312, lr=1.59935e-07\n",
      "step 1800: loss=4.901952, accuracy=0.0000, lr=1.30931e-07\n"
     ]
    },
    {
     "name": "stderr",
     "output_type": "stream",
     "text": [
      " 40%|████      | 4/10 [1:55:01<2:53:01, 1730.19s/it]"
     ]
    },
    {
     "name": "stdout",
     "output_type": "stream",
     "text": [
      "step 200: loss=4.901950, accuracy=0.0312, lr=8.97008e-08\n",
      "step 400: loss=4.901953, accuracy=0.0625, lr=7.34334e-08\n",
      "step 600: loss=4.901956, accuracy=0.0938, lr=6.01162e-08\n",
      "step 800: loss=4.901954, accuracy=0.0000, lr=4.92141e-08\n",
      "step 1000: loss=4.901953, accuracy=0.0000, lr=4.0289e-08\n",
      "step 1200: loss=4.901953, accuracy=0.0000, lr=3.29826e-08\n",
      "step 1400: loss=4.901956, accuracy=0.0000, lr=2.70011e-08\n",
      "step 1600: loss=4.901956, accuracy=0.0000, lr=2.21045e-08\n",
      "step 1800: loss=4.901955, accuracy=0.0000, lr=1.80958e-08\n"
     ]
    },
    {
     "name": "stderr",
     "output_type": "stream",
     "text": [
      " 50%|█████     | 5/10 [2:22:53<2:22:25, 1709.08s/it]"
     ]
    },
    {
     "name": "stdout",
     "output_type": "stream",
     "text": [
      "step 200: loss=4.901955, accuracy=0.0312, lr=1.23974e-08\n",
      "step 400: loss=4.901955, accuracy=0.0312, lr=1.01491e-08\n",
      "step 600: loss=4.901956, accuracy=0.0312, lr=8.30859e-09\n",
      "step 800: loss=4.901955, accuracy=0.0000, lr=6.80182e-09\n",
      "step 1000: loss=4.901955, accuracy=0.0000, lr=5.5683e-09\n",
      "step 1200: loss=4.901955, accuracy=0.0000, lr=4.55848e-09\n",
      "step 1400: loss=4.901956, accuracy=0.0000, lr=3.7318e-09\n",
      "step 1600: loss=4.901955, accuracy=0.0000, lr=3.05503e-09\n",
      "step 1800: loss=4.901956, accuracy=0.0312, lr=2.501e-09\n"
     ]
    },
    {
     "name": "stderr",
     "output_type": "stream",
     "text": [
      " 60%|██████    | 6/10 [2:51:16<1:53:47, 1706.91s/it]"
     ]
    },
    {
     "name": "stdout",
     "output_type": "stream",
     "text": [
      "step 200: loss=4.901956, accuracy=0.0000, lr=1.71344e-09\n",
      "step 400: loss=4.901956, accuracy=0.0000, lr=1.4027e-09\n",
      "step 600: loss=4.901956, accuracy=0.0312, lr=1.14832e-09\n",
      "step 800: loss=4.901956, accuracy=0.0000, lr=9.40071e-10\n",
      "step 1000: loss=4.901956, accuracy=0.0000, lr=7.69588e-10\n",
      "step 1200: loss=4.901956, accuracy=0.0312, lr=6.30022e-10\n",
      "step 1400: loss=4.901956, accuracy=0.0000, lr=5.15767e-10\n",
      "step 1600: loss=4.901956, accuracy=0.0312, lr=4.22232e-10\n",
      "step 1800: loss=4.901956, accuracy=0.0000, lr=3.4566e-10\n"
     ]
    },
    {
     "name": "stderr",
     "output_type": "stream",
     "text": [
      " 70%|███████   | 7/10 [3:20:10<1:25:47, 1715.73s/it]"
     ]
    },
    {
     "name": "stdout",
     "output_type": "stream",
     "text": [
      "step 200: loss=4.901956, accuracy=0.0312, lr=2.36812e-10\n",
      "step 400: loss=4.901956, accuracy=0.0000, lr=1.93866e-10\n",
      "step 600: loss=4.901956, accuracy=0.0312, lr=1.58708e-10\n",
      "step 800: loss=4.901956, accuracy=0.0000, lr=1.29926e-10\n",
      "step 1000: loss=4.901956, accuracy=0.0938, lr=1.06364e-10\n",
      "step 1200: loss=4.901956, accuracy=0.0000, lr=8.70746e-11\n",
      "step 1400: loss=4.901956, accuracy=0.0000, lr=7.12835e-11\n",
      "step 1600: loss=4.901956, accuracy=0.0000, lr=5.83562e-11\n",
      "step 1800: loss=4.901956, accuracy=0.0312, lr=4.77732e-11\n"
     ]
    },
    {
     "name": "stderr",
     "output_type": "stream",
     "text": [
      " 80%|████████  | 8/10 [3:49:31<57:40, 1730.26s/it]  "
     ]
    },
    {
     "name": "stdout",
     "output_type": "stream",
     "text": [
      "step 200: loss=4.901956, accuracy=0.0000, lr=3.27295e-11\n",
      "step 400: loss=4.901956, accuracy=0.0625, lr=2.6794e-11\n",
      "step 600: loss=4.901956, accuracy=0.0312, lr=2.19348e-11\n",
      "step 800: loss=4.901956, accuracy=0.0312, lr=1.79569e-11\n",
      "step 1000: loss=4.901956, accuracy=0.0000, lr=1.47004e-11\n",
      "step 1200: loss=4.901956, accuracy=0.0000, lr=1.20345e-11\n",
      "step 1400: loss=4.901956, accuracy=0.0000, lr=9.85201e-12\n",
      "step 1600: loss=4.901956, accuracy=0.0625, lr=8.06534e-12\n",
      "step 1800: loss=4.901956, accuracy=0.0312, lr=6.60268e-12\n"
     ]
    },
    {
     "name": "stderr",
     "output_type": "stream",
     "text": [
      " 90%|█████████ | 9/10 [4:18:31<28:53, 1733.41s/it]"
     ]
    },
    {
     "name": "stdout",
     "output_type": "stream",
     "text": [
      "step 200: loss=4.901956, accuracy=0.0000, lr=4.5235e-12\n",
      "step 400: loss=4.901956, accuracy=0.0000, lr=3.70316e-12\n",
      "step 600: loss=4.901956, accuracy=0.0000, lr=3.03159e-12\n",
      "step 800: loss=4.901956, accuracy=0.0000, lr=2.48181e-12\n",
      "step 1000: loss=4.901956, accuracy=0.0000, lr=2.03173e-12\n",
      "step 1200: loss=4.901956, accuracy=0.0000, lr=1.66327e-12\n",
      "step 1400: loss=4.901956, accuracy=0.0000, lr=1.36163e-12\n",
      "step 1600: loss=4.901956, accuracy=0.0000, lr=1.1147e-12\n",
      "step 1800: loss=4.901956, accuracy=0.0000, lr=9.12549e-13\n"
     ]
    },
    {
     "name": "stderr",
     "output_type": "stream",
     "text": [
      "100%|██████████| 10/10 [4:47:06<00:00, 1722.66s/it]"
     ]
    },
    {
     "name": "stdout",
     "output_type": "stream",
     "text": [
      "CPU times: user 1d 8h 23min 26s, sys: 3d 7h 34min 56s, total: 4d 15h 58min 23s\n",
      "Wall time: 4h 47min 6s\n"
     ]
    },
    {
     "name": "stderr",
     "output_type": "stream",
     "text": [
      "\n"
     ]
    }
   ],
   "source": [
    "%%time\n",
    "lenet = LeNet()\n",
    "train_result = lenet.train(np.expand_dims(train_feat,axis=3), train_label, np.expand_dims(val_feat,axis=3), val_label)"
   ]
  },
  {
   "cell_type": "code",
   "execution_count": 27,
   "id": "3313460b-d128-4ff6-b2bc-1432389d55f9",
   "metadata": {},
   "outputs": [
    {
     "data": {
      "text/plain": [
       "(0.019999999999999997, 3.469446951953614e-18)"
      ]
     },
     "execution_count": 27,
     "metadata": {},
     "output_type": "execute_result"
    }
   ],
   "source": [
    "# val accuracy for top1\n",
    "np.array(train_result[4]).mean(),np.array(train_result[4]).std()"
   ]
  },
  {
   "cell_type": "code",
   "execution_count": 28,
   "id": "090b11ef-5303-4ba5-b507-86e35503789e",
   "metadata": {},
   "outputs": [
    {
     "data": {
      "text/plain": [
       "(0.1, 0.0)"
      ]
     },
     "execution_count": 28,
     "metadata": {},
     "output_type": "execute_result"
    }
   ],
   "source": [
    "# val accuracy for top5\n",
    "np.array(train_result[5]).mean(),np.array(train_result[5]).std()"
   ]
  },
  {
   "cell_type": "code",
   "execution_count": 23,
   "id": "1e25f823-c928-4c41-9611-4c49981374a9",
   "metadata": {},
   "outputs": [
    {
     "data": {
      "image/png": "[encoded data removed]",
      "text/plain": [
       "<Figure size 600x400 with 1 Axes>"
      ]
     },
     "metadata": {},
     "output_type": "display_data"
    }
   ],
   "source": [
    "plt.figure(figsize=(6,4))\n",
    "plt.plot(train_result[0],label=\"Training\")\n",
    "plt.plot(train_result[3],label=\"Validation\")\n",
    "plt.xlabel(\"Epoch\")\n",
    "plt.ylabel(\"Loss\")\n",
    "plt.title(\"Training/Validation loss\")\n",
    "plt.legend()\n",
    "plt.show()"
   ]
  },
  {
   "cell_type": "code",
   "execution_count": 24,
   "id": "38128e2b-20b9-41bd-8927-6abdba4baa94",
   "metadata": {},
   "outputs": [
    {
     "data": {
      "image/png": "[encoded data removed]",
      "text/plain": [
       "<Figure size 600x400 with 1 Axes>"
      ]
     },
     "metadata": {},
     "output_type": "display_data"
    }
   ],
   "source": [
    "plt.figure(figsize=(6,4))\n",
    "plt.plot(train_result[1],label=\"Training\")\n",
    "plt.plot(train_result[4],label=\"Validation\")\n",
    "plt.xlabel(\"Epoch\")\n",
    "plt.ylabel(\"Top-1 Accuracy\")\n",
    "plt.title(\"Training/Validation Top-1 Accuracy\")\n",
    "plt.legend()\n",
    "plt.show()"
   ]
  },
  {
   "cell_type": "code",
   "execution_count": 25,
   "id": "3a94f1c7-93d2-4c87-965e-2ed572d1f455",
   "metadata": {},
   "outputs": [
    {
     "data": {
      "image/png": "[encoded data removed]",
      "text/plain": [
       "<Figure size 600x400 with 1 Axes>"
      ]
     },
     "metadata": {},
     "output_type": "display_data"
    }
   ],
   "source": [
    "plt.figure(figsize=(6,4))\n",
    "plt.plot(train_result[2],label=\"Training\")\n",
    "plt.plot(train_result[5],label=\"Validation\")\n",
    "plt.xlabel(\"Epoch\")\n",
    "plt.ylabel(\"Top-5 Accuracy\")\n",
    "plt.title(\"Training/Validation Top-5 Accuracy\")\n",
    "plt.legend()\n",
    "plt.show()"
   ]
  },
  {
   "cell_type": "code",
   "execution_count": 26,
   "id": "2f096435-1c21-4eb9-8ea7-0fdca0819763",
   "metadata": {},
   "outputs": [
    {
     "name": "stderr",
     "output_type": "stream",
     "text": [
      "100%|██████████| 14/14 [00:05<00:00,  2.55it/s]"
     ]
    },
    {
     "name": "stdout",
     "output_type": "stream",
     "text": [
      "Test top1 accuracy:0.02\n",
      "Test top5 accuracy:0.1\n"
     ]
    },
    {
     "name": "stderr",
     "output_type": "stream",
     "text": [
      "\n"
     ]
    }
   ],
   "source": [
    "total_test_acc = 0\n",
    "total_test_acc_top5 = 0\n",
    "test_index = np.arange(len(test_label))\n",
    "test_num_batch = len(test_index)//32\n",
    "\n",
    "for data in tqdm(range(test_num_batch)):\n",
    "    test_batch_img = test_feat[data*32 : (data+1)*32]\n",
    "    test_batch_label = test_label[data*32 : (data+1)*32]\n",
    "\n",
    "    output = lenet.predict(np.expand_dims(test_batch_img,axis=3))\n",
    "    test_correct = (output.argmax(1) == test_batch_label.argmax(1)).sum()\n",
    "    total_test_acc += test_correct\n",
    "    label = test_batch_label.argmax(1)\n",
    "    acc_top5 = len([i for i in range(len(label)) if label[i] in np.argsort(-output,axis=1)[i,:5]])\n",
    "    total_test_acc_top5 += acc_top5\n",
    "print(\"Test top1 accuracy:{}\".format(total_test_acc/len(test_index)))\n",
    "print(\"Test top5 accuracy:{}\".format(total_test_acc_top5/len(test_index)))"
   ]
  },
  {
   "cell_type": "code",
   "execution_count": 18,
   "id": "11ba4ff1-7321-493d-81e0-04b8524bb0cf",
   "metadata": {},
   "outputs": [],
   "source": [
    "# lenet.predict(np.expand_dims(test_feat,axis=3))\n",
    "# tp = np.sum(pred == test_label)\n",
    "# accuracy = float(tp) / len(test_label)\n",
    "# accuracy"
   ]
  },
  {
   "cell_type": "code",
   "execution_count": 19,
   "id": "6b0bc7e0-65ad-46e9-801b-f9a3b68cb62d",
   "metadata": {},
   "outputs": [],
   "source": [
    "# class conv():\n",
    "#     def __init__(self,kernel_size):\n",
    "#         self.size = kernel_size\n",
    "#         self.weight = np.random.randn(kernel_size,kernel_size)\n",
    "#     def forward(self,x): # x: number of image, number of channel, image height, image width\n",
    "#         num_img, num_cha, height, width = x.shape\n",
    "#         pool_height = height - self.size + 1\n",
    "#         pool_width = width - self.size + 1\n",
    "#         output = np.zeros((pool_height,pool_width))\n",
    "#         for i in range(num_img):\n",
    "#             for j in range(num_cha):\n",
    "#                 for k in range(pool_height):\n",
    "#                     for l in range(pool_width):\n",
    "#                         output[k,l] = np.sum(x[i,j,k:k+self.size,l:l+self.size] * self.weight)"
   ]
  },
  {
   "cell_type": "code",
   "execution_count": 20,
   "id": "39abee35-1989-44ec-a28a-3ab76c1eb66f",
   "metadata": {},
   "outputs": [],
   "source": [
    "# class maxpool():\n",
    "#     def __init__(self,kernel_size):\n",
    "#         self.size = kernel_size\n",
    "#     def forward(self,x): # x: number of image, number of channel, image height, image width\n",
    "#         num_img, num_cha, height, width = x.shape\n",
    "#         pool_height = height - self.size + 1\n",
    "#         pool_width = width - self.size + 1\n",
    "#         output = np.zeros((num_img,num_cha,pool_height,pool_width))\n",
    "#         for i in range(num_img):\n",
    "#             for j in range(num_cha):\n",
    "#                 for k in range(pool_height):\n",
    "#                     for l in range(pool_width):\n",
    "#                         output[i,j,k,l] = x[i,j,k:k+self.size,l:l+self.size].max()\n"
   ]
  },
  {
   "cell_type": "code",
   "execution_count": 21,
   "id": "d616cad1-9c80-43f5-b998-c82cdee4af27",
   "metadata": {},
   "outputs": [],
   "source": [
    "# class crossentropy(): # softmax->neg log likelihood\n",
    "#     def __init__(self):\n",
    "#         self.softmax = softmax()\n",
    "#     def forward(self,pred,gt):\n",
    "#         pred = self.softmax.forward(pred)\n",
    "#         loss = self.negloglike(pred,gt)\n",
    "#         return loss\n",
    "\n",
    "#     def negloglike(self,pred,gt):\n",
    "#         loss_matrix = np.sum(gt * np.log(pred),axis=1)\n",
    "#         loss_sum = round(-sum(loss_matrix),5)\n",
    "#         return loss_sum/len(pred)"
   ]
  },
  {
   "cell_type": "code",
   "execution_count": 22,
   "id": "6633d987-513f-43c0-9979-3482c31ad5c1",
   "metadata": {},
   "outputs": [],
   "source": [
    "# class LeNet5(Net):\n",
    "#     # LeNet5\n",
    "\n",
    "#     def __init__(self):\n",
    "#         self.conv1 = Conv(1, 6, 5)\n",
    "#         self.ReLU1 = ReLU()\n",
    "#         self.pool1 = MaxPool(2,2)\n",
    "#         self.conv2 = Conv(6, 16, 5)\n",
    "#         self.ReLU2 = ReLU()\n",
    "#         self.pool2 = MaxPool(2,2)\n",
    "#         self.FC1 = FC(16*4*4, 120)\n",
    "#         self.ReLU3 = ReLU()\n",
    "#         self.FC2 = FC(120, 84)\n",
    "#         self.ReLU4 = ReLU()\n",
    "#         self.FC3 = FC(84, 10)\n",
    "#         self.Softmax = Softmax()\n",
    "\n",
    "#         self.p2_shape = None\n",
    "\n",
    "#     def forward(self, X):\n",
    "#         h1 = self.conv1._forward(X)\n",
    "#         a1 = self.ReLU1._forward(h1)\n",
    "#         p1 = self.pool1._forward(a1)\n",
    "#         h2 = self.conv2._forward(p1)\n",
    "#         a2 = self.ReLU2._forward(h2)\n",
    "#         p2 = self.pool2._forward(a2)\n",
    "#         self.p2_shape = p2.shape\n",
    "#         fl = p2.reshape(X.shape[0],-1) # Flatten\n",
    "#         h3 = self.FC1._forward(fl)\n",
    "#         a3 = self.ReLU3._forward(h3)\n",
    "#         h4 = self.FC2._forward(a3)\n",
    "#         a5 = self.ReLU4._forward(h4)\n",
    "#         h5 = self.FC3._forward(a5)\n",
    "#         a5 = self.Softmax._forward(h5)\n",
    "#         return a5\n",
    "\n",
    "#     def backward(self, dout):\n",
    "#         #dout = self.Softmax._backward(dout)\n",
    "#         dout = self.FC3._backward(dout)\n",
    "#         dout = self.ReLU4._backward(dout)\n",
    "#         dout = self.FC2._backward(dout)\n",
    "#         dout = self.ReLU3._backward(dout)\n",
    "#         dout = self.FC1._backward(dout)\n",
    "#         dout = dout.reshape(self.p2_shape) # reshape\n",
    "#         dout = self.pool2._backward(dout)\n",
    "#         dout = self.ReLU2._backward(dout)\n",
    "#         dout = self.conv2._backward(dout)\n",
    "#         dout = self.pool1._backward(dout)\n",
    "#         dout = self.ReLU1._backward(dout)\n",
    "#         dout = self.conv1._backward(dout)\n",
    "\n",
    "#     def get_params(self):\n",
    "#         return [self.conv1.W, self.conv1.b, self.conv2.W, self.conv2.b, self.FC1.W, self.FC1.b, self.FC2.W, self.FC2.b, self.FC3.W, self.FC3.b]\n",
    "\n",
    "#     def set_params(self, params):\n",
    "#         [self.conv1.W, self.conv1.b, self.conv2.W, self.conv2.b, self.FC1.W, self.FC1.b, self.FC2.W, self.FC2.b, self.FC3.W, self.FC3.b] = params"
   ]
  }
 ],
 "metadata": {
  "kernelspec": {
   "display_name": "chywork",
   "language": "python",
   "name": "chywork"
  },
  "language_info": {
   "codemirror_mode": {
    "name": "ipython",
    "version": 3
   },
   "file_extension": ".py",
   "mimetype": "text/x-python",
   "name": "python",
   "nbconvert_exporter": "python",
   "pygments_lexer": "ipython3",
   "version": "3.9.13"
  }
 },
 "nbformat": 4,
 "nbformat_minor": 5
}
