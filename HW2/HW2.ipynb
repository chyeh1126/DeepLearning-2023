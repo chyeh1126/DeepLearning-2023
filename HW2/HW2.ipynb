{
 "cells": [
  {
   "cell_type": "code",
   "execution_count": 1,
   "metadata": {},
   "outputs": [],
   "source": [
    "import numpy as np\n",
    "import cv2"
   ]
  },
  {
   "cell_type": "code",
   "execution_count": 2,
   "metadata": {},
   "outputs": [],
   "source": [
    "def read_img(file):\n",
    "    img_name_list,label_list = [],[]\n",
    "    with open(file) as f:\n",
    "        for i in f:\n",
    "            img_name_list.append(i.strip()[:-2])\n",
    "            label_list.append(int(i.strip()[-1]))\n",
    "    \n",
    "    return img_name_list,label_list"
   ]
  },
  {
   "cell_type": "code",
   "execution_count": null,
   "metadata": {},
   "outputs": [],
   "source": [
    "train_img_name_list,train_label = read_img(\"train.txt\")"
   ]
  },
  {
   "attachments": {},
   "cell_type": "markdown",
   "metadata": {},
   "source": [
    "# 目標\n",
    "\n",
    "## model\n",
    "\n",
    "- 1-layer perceptron\n",
    "\n",
    "- 2-layer perceptron\n",
    "\n",
    "- modified lenet5\n",
    "\n",
    "## activation function\n",
    "\n",
    "## loss function"
   ]
  },
  {
   "cell_type": "code",
   "execution_count": 56,
   "metadata": {},
   "outputs": [],
   "source": [
    "class sigmoid():\n",
    "    def __init__(self):\n",
    "        pass\n",
    "    def forward(self,x):\n",
    "        self.x = x\n",
    "        self.x1 = -self.x\n",
    "        self.x2 = np.exp(self.x1)\n",
    "        self.x3 = 1 + self.x2\n",
    "        output = 1 / self.x3\n",
    "        return output\n",
    "    def backward(self,upg): # upg:upstream gradient\n",
    "        self.gd3 = upg * (-1 / (self.x3)**2)\n",
    "        self.gd2 = self.gd3 * 1\n",
    "        self.gd1 = self.gd2 * np.exp(self.x1)\n",
    "        self.gd0 = self.gd1 * -1\n",
    "        return self.gd0\n",
    "            \n",
    "class relu():\n",
    "    def __init__(self):\n",
    "        pass\n",
    "    def forward(self,x):\n",
    "        self.x = x\n",
    "        output = np.maximum(0,x)\n",
    "        return output\n",
    "    def backward(self,upg):\n",
    "        self.gd = upg\n",
    "        self.gd[self.x <= 0] = 0\n",
    "        return self.gd\n",
    "    \n",
    "class softmax():\n",
    "    def __init__(self):\n",
    "        pass\n",
    "    def forward(self,pred):\n",
    "        self.x = pred\n",
    "        self.x1 = np.exp(self.x)\n",
    "        output = self.x1/(self.x1.sum(axis=1)[:,None])\n",
    "        return output\n",
    "    def backward(self,upg):\n",
    "        n = self.x1.shape\n",
    "        row_sum = self.x1.sum(axis=1)[:,None]\n",
    "        self.gd1 = np.zeros((n,n))\n",
    "        for i in range(n):\n",
    "            for j in range(n):\n",
    "                self.gd1[i,j] = self.x1[i,j] * (row_sum[i] - np.exp(self.x1[i,j])) / row_sum[i]\n",
    "        self.gd1 = upg * self.gd1\n",
    "        self.gd0 = self.gd1 * np.exp(self.x)\n",
    "        return self.gd1"
   ]
  },
  {
   "cell_type": "code",
   "execution_count": 3,
   "metadata": {},
   "outputs": [],
   "source": [
    "class crossentropy(): # softmax->neg log likelihood\n",
    "    def __init__(self):\n",
    "        self.softmax = softmax()\n",
    "    def forward(self,pred,gt):\n",
    "        pred = self.softmax.forward(pred)\n",
    "        loss = self.negloglike(pred,gt)\n",
    "        print(loss)\n",
    "\n",
    "    def negloglike(self,pred,gt):\n",
    "        loss_matrix = np.sum(gt * np.log(pred),axis=1)\n",
    "        loss_sum = round(-sum(loss_matrix),5)\n",
    "        return loss_sum/len(pred)"
   ]
  },
  {
   "cell_type": "code",
   "execution_count": 4,
   "metadata": {},
   "outputs": [],
   "source": [
    "class linear():\n",
    "    def __init__(self, in_dim, out_dim):\n",
    "        self.weight = np.random.rand(in_dim,out_dim)\n",
    "        self.bias = np.random.rand(out_dim)\n",
    "    def forward(self, x): # suppose m*n\n",
    "        output = np.dot(x,self.weight) + self.bias\n",
    "        return output\n"
   ]
  },
  {
   "cell_type": "code",
   "execution_count": 20,
   "metadata": {},
   "outputs": [],
   "source": [
    "class percep():\n",
    "    def __init__(self):\n",
    "        self.lin1 = linear(3,2)\n",
    "        self.sigmoid1 = sigmoid()\n",
    "        self.lin2 = linear(2,2)\n",
    "        self.sigmoid2 = sigmoid()\n",
    "    def forward(self,x):\n",
    "        x = self.lin1.forward(x)\n",
    "        x = self.sigmoid1.forward(x)\n",
    "        x = self.lin2.forward(x)\n",
    "        output = self.sigmoid2.forward(x)\n",
    "        return output\n",
    "    \n",
    "    "
   ]
  },
  {
   "cell_type": "code",
   "execution_count": 6,
   "metadata": {},
   "outputs": [],
   "source": [
    "class maxpool():\n",
    "    def __init__(self,kernel_size):\n",
    "        self.size = kernel_size\n",
    "    def forward(self,x): # x: number of image, number of channel, image height, image width\n",
    "        num_img, num_cha, height, width = x.shape\n",
    "        pool_height = height - self.size + 1\n",
    "        pool_width = width - self.size + 1\n",
    "        output = np.zeros((num_img,num_cha,pool_height,pool_width))\n",
    "        for i in range(num_img):\n",
    "            for j in range(num_cha):\n",
    "                for k in range(pool_height):\n",
    "                    for l in range(pool_width):\n",
    "                        output[i,j,k,l] = x[i,j,k:k+self.size,l:l+self.size].max()\n",
    "\n"
   ]
  },
  {
   "cell_type": "code",
   "execution_count": 7,
   "metadata": {},
   "outputs": [],
   "source": [
    "class conv():\n",
    "    def __init__(self,kernel_size):\n",
    "        self.size = kernel_size\n",
    "        self.weight = np.random.randn(kernel_size,kernel_size)\n",
    "    def forward(self,x): # x: number of image, number of channel, image height, image width\n",
    "        num_img, num_cha, height, width = x.shape\n",
    "        pool_height = height - self.size + 1\n",
    "        pool_width = width - self.size + 1\n",
    "        output = np.zeros((pool_height,pool_width))\n",
    "        for i in range(num_img):\n",
    "            for j in range(num_cha):\n",
    "                for k in range(pool_height):\n",
    "                    for l in range(pool_width):\n",
    "                        output[k,l] = np.sum(x[i,j,k:k+self.size,l:l+self.size] * self.weight)"
   ]
  },
  {
   "cell_type": "code",
   "execution_count": 8,
   "metadata": {},
   "outputs": [],
   "source": [
    "pred = [0.4,0.3,0.05,0.05,0.2]\n",
    "gt = [1,0,0,0,0]"
   ]
  },
  {
   "cell_type": "code",
   "execution_count": 9,
   "metadata": {},
   "outputs": [
    {
     "data": {
      "text/plain": [
       "array([[ 0.70703991,  0.63626583,  1.14009381,  1.55090988, -1.50142339],\n",
       "       [ 0.09911874, -0.63833547,  1.82261671, -0.08275603, -0.94557025],\n",
       "       [-0.66549651, -0.52234733, -3.22215571,  0.29914553, -1.98252454],\n",
       "       [-0.14034839, -1.52024515, -1.69835735,  1.56765242,  0.16046378],\n",
       "       [ 0.3461986 , -0.50141101, -0.10741842, -0.6429422 ,  1.60648052]])"
      ]
     },
     "execution_count": 9,
     "metadata": {},
     "output_type": "execute_result"
    }
   ],
   "source": [
    "pred = np.random.randn(5,5)\n",
    "pred"
   ]
  },
  {
   "cell_type": "code",
   "execution_count": 10,
   "metadata": {},
   "outputs": [
    {
     "data": {
      "text/plain": [
       "array([[0.16923768, 0.15767407, 0.26095762, 0.3935366 , 0.01859403],\n",
       "       [0.1209492 , 0.05785364, 0.67781105, 0.10083604, 0.04255007],\n",
       "       [0.19518883, 0.22522877, 0.01513952, 0.51214587, 0.05229702],\n",
       "       [0.12003312, 0.03020088, 0.02527356, 0.66233304, 0.16215941],\n",
       "       [0.16772683, 0.07186052, 0.10656122, 0.06237695, 0.59147449]])"
      ]
     },
     "execution_count": 10,
     "metadata": {},
     "output_type": "execute_result"
    }
   ],
   "source": [
    "pred = np.exp(pred)/np.exp(pred).sum(axis=1)[:,None]\n",
    "pred"
   ]
  },
  {
   "cell_type": "code",
   "execution_count": 11,
   "metadata": {},
   "outputs": [
    {
     "data": {
      "text/plain": [
       "array([[1, 0, 0, 0, 0],\n",
       "       [0, 1, 0, 0, 0],\n",
       "       [0, 0, 1, 0, 0],\n",
       "       [0, 0, 0, 1, 0],\n",
       "       [0, 0, 0, 0, 1]])"
      ]
     },
     "execution_count": 11,
     "metadata": {},
     "output_type": "execute_result"
    }
   ],
   "source": [
    "gt = np.diag([1]*5)\n",
    "gt"
   ]
  },
  {
   "cell_type": "code",
   "execution_count": 12,
   "metadata": {},
   "outputs": [
    {
     "data": {
      "text/plain": [
       "1.74481176421648"
      ]
     },
     "execution_count": 12,
     "metadata": {},
     "output_type": "execute_result"
    }
   ],
   "source": [
    "np.random.seed(1)\n",
    "np.random.randn(3,3).max()"
   ]
  },
  {
   "cell_type": "code",
   "execution_count": 13,
   "metadata": {},
   "outputs": [
    {
     "data": {
      "text/plain": [
       "array([[0.16923768, 0.15767407, 0.26095762, 0.3935366 , 0.01859403],\n",
       "       [0.1209492 , 0.05785364, 0.67781105, 0.10083604, 0.04255007],\n",
       "       [0.19518883, 0.22522877, 0.01513952, 0.51214587, 0.05229702],\n",
       "       [0.12003312, 0.03020088, 0.02527356, 0.66233304, 0.16215941],\n",
       "       [0.16772683, 0.07186052, 0.10656122, 0.06237695, 0.59147449]])"
      ]
     },
     "execution_count": 13,
     "metadata": {},
     "output_type": "execute_result"
    }
   ],
   "source": [
    "pred"
   ]
  },
  {
   "cell_type": "code",
   "execution_count": 14,
   "metadata": {},
   "outputs": [
    {
     "data": {
      "text/plain": [
       "array([[0.16923768, 0.15767407],\n",
       "       [0.1209492 , 0.05785364]])"
      ]
     },
     "execution_count": 14,
     "metadata": {},
     "output_type": "execute_result"
    }
   ],
   "source": [
    "pred[0:2,0:2]"
   ]
  },
  {
   "cell_type": "code",
   "execution_count": 17,
   "metadata": {},
   "outputs": [
    {
     "data": {
      "text/plain": [
       "array([[ 0,  1,  2,  3],\n",
       "       [ 4,  5,  6,  7],\n",
       "       [ 8,  9, 10, 11],\n",
       "       [12, 13, 14, 15]])"
      ]
     },
     "execution_count": 17,
     "metadata": {},
     "output_type": "execute_result"
    }
   ],
   "source": [
    "x_test = np.arange(16)\n",
    "x_test = x_test.reshape(4,4)\n",
    "x_test"
   ]
  },
  {
   "cell_type": "code",
   "execution_count": null,
   "metadata": {},
   "outputs": [],
   "source": []
  }
 ],
 "metadata": {
  "kernelspec": {
   "display_name": "base",
   "language": "python",
   "name": "python3"
  },
  "language_info": {
   "codemirror_mode": {
    "name": "ipython",
    "version": 3
   },
   "file_extension": ".py",
   "mimetype": "text/x-python",
   "name": "python",
   "nbconvert_exporter": "python",
   "pygments_lexer": "ipython3",
   "version": "3.9.12"
  },
  "orig_nbformat": 4
 },
 "nbformat": 4,
 "nbformat_minor": 2
}
