{
 "cells": [
  {
   "cell_type": "code",
   "execution_count": 28,
   "id": "9098df19-65ab-4c3c-ba69-99cf08f20f8b",
   "metadata": {},
   "outputs": [],
   "source": [
    "import tensorflow as tf\n",
    "import numpy as np\n",
    "import cv2\n",
    "import timeit, time\n",
    "import thop\n",
    "import matplotlib.pyplot as plt\n",
    "from model_profiler import model_profiler\n",
    "from keras_flops import get_flops"
   ]
  },
  {
   "cell_type": "code",
   "execution_count": 2,
   "id": "b159f9cd-0d6a-493d-a4b4-1149057806f2",
   "metadata": {},
   "outputs": [
    {
     "name": "stdout",
     "output_type": "stream",
     "text": [
      "Tensorflow version:2.11.0\n"
     ]
    }
   ],
   "source": [
    "print(\"Tensorflow version:{}\".format(tf.__version__))"
   ]
  },
  {
   "cell_type": "code",
   "execution_count": 3,
   "id": "d12733a6",
   "metadata": {},
   "outputs": [],
   "source": [
    "# config = tf.compat.v1.ConfigProto()\n",
    "# config.gpu_options.allow_growth = 0.25\n",
    "# sess = tf.compat.v1.Session(config=config)"
   ]
  },
  {
   "cell_type": "code",
   "execution_count": 4,
   "id": "103287e6-3c20-442f-bda2-ac68a750fb67",
   "metadata": {},
   "outputs": [],
   "source": [
    "def read_image(file):\n",
    "    feat, label = [], []\n",
    "    with open(file) as f:\n",
    "        for i in f:\n",
    "            img_info = i.split(\" \")\n",
    "            \n",
    "            img_name = img_info[0]\n",
    "            img = cv2.imread(img_name,cv2.IMREAD_GRAYSCALE)\n",
    "            img = cv2.resize(img,(32,32))\n",
    "            img_feat = img / 255.0\n",
    "            img_feat = np.expand_dims(img_feat,axis=2)\n",
    "            feat.append(img_feat)\n",
    "            \n",
    "            img_label = int(img_info[-1])\n",
    "            onehot = np.zeros(50)\n",
    "            onehot[img_label] = 1\n",
    "            label.append(onehot)\n",
    "            \n",
    "        return np.array(feat), np.array(label)\n",
    "            "
   ]
  },
  {
   "cell_type": "code",
   "execution_count": 5,
   "id": "c911eaf1-5590-4bce-8031-365c02416e4c",
   "metadata": {},
   "outputs": [
    {
     "name": "stdout",
     "output_type": "stream",
     "text": [
      "CPU times: total: 38.3 s\n",
      "Wall time: 38.4 s\n"
     ]
    }
   ],
   "source": [
    "%%time\n",
    "train_img, train_label = read_image(\"train.txt\")\n",
    "val_img, val_label = read_image(\"val.txt\")\n",
    "test_img, test_label = read_image(\"test.txt\")"
   ]
  },
  {
   "attachments": {},
   "cell_type": "markdown",
   "id": "f5738fce-d9b7-42cb-8306-a95c85c300ec",
   "metadata": {},
   "source": [
    "# Tensorflow version"
   ]
  },
  {
   "cell_type": "code",
   "execution_count": 6,
   "id": "36f4305f-0627-4018-a3ad-f796ad118969",
   "metadata": {},
   "outputs": [],
   "source": [
    "def create_dataset(img, label):\n",
    "    ind = np.arange(len(img))\n",
    "    np.random.shuffle(ind)\n",
    "    dataset_ = tf.data.Dataset.from_tensor_slices((img[ind], label[ind]))\n",
    "    ds = dataset_.repeat(25)\n",
    "    ds = ds.batch(32)\n",
    "    return ds"
   ]
  },
  {
   "cell_type": "code",
   "execution_count": 7,
   "id": "873d936d-813e-4b8d-8a7c-077aac532f4c",
   "metadata": {},
   "outputs": [],
   "source": [
    "train_dataset = create_dataset(train_img, train_label)\n",
    "val_dataset = create_dataset(val_img, val_label)"
   ]
  },
  {
   "cell_type": "code",
   "execution_count": 8,
   "id": "e6f38ef5-3cdd-4106-8050-07a152670e27",
   "metadata": {},
   "outputs": [],
   "source": [
    "model = tf.keras.Sequential()\n",
    "model.add(tf.keras.layers.Conv2D(filters=6,kernel_size=(5,5),activation=\"sigmoid\",input_shape=(32,32,1)))\n",
    "model.add(tf.keras.layers.MaxPooling2D(pool_size=(2,2)))\n",
    "model.add(tf.keras.layers.Conv2D(filters=16,kernel_size=(5,5),activation=\"sigmoid\",input_shape=(14,14,1)))\n",
    "model.add(tf.keras.layers.MaxPooling2D(pool_size=(2,2)))\n",
    "model.add(tf.keras.layers.Flatten())\n",
    "model.add(tf.keras.layers.Dense(120,activation=\"sigmoid\"))\n",
    "model.add(tf.keras.layers.Dense(84,activation=\"sigmoid\"))\n",
    "model.add(tf.keras.layers.Dense(50,activation=\"softmax\"))\n",
    "\n",
    "model.compile(optimizer='adam',\n",
    "              loss=tf.keras.losses.CategoricalCrossentropy(),\n",
    "              metrics=['accuracy'])"
   ]
  },
  {
   "cell_type": "code",
   "execution_count": 9,
   "id": "af4b6c54-5eec-4fc3-bcb2-5cd3add8571b",
   "metadata": {},
   "outputs": [
    {
     "name": "stdout",
     "output_type": "stream",
     "text": [
      "Model: \"sequential\"\n",
      "_________________________________________________________________\n",
      " Layer (type)                Output Shape              Param #   \n",
      "=================================================================\n",
      " conv2d (Conv2D)             (None, 28, 28, 6)         156       \n",
      "                                                                 \n",
      " max_pooling2d (MaxPooling2D  (None, 14, 14, 6)        0         \n",
      " )                                                               \n",
      "                                                                 \n",
      " conv2d_1 (Conv2D)           (None, 10, 10, 16)        2416      \n",
      "                                                                 \n",
      " max_pooling2d_1 (MaxPooling  (None, 5, 5, 16)         0         \n",
      " 2D)                                                             \n",
      "                                                                 \n",
      " flatten (Flatten)           (None, 400)               0         \n",
      "                                                                 \n",
      " dense (Dense)               (None, 120)               48120     \n",
      "                                                                 \n",
      " dense_1 (Dense)             (None, 84)                10164     \n",
      "                                                                 \n",
      " dense_2 (Dense)             (None, 50)                4250      \n",
      "                                                                 \n",
      "=================================================================\n",
      "Total params: 65,106\n",
      "Trainable params: 65,106\n",
      "Non-trainable params: 0\n",
      "_________________________________________________________________\n"
     ]
    }
   ],
   "source": [
    "model.summary()"
   ]
  },
  {
   "cell_type": "code",
   "execution_count": 10,
   "id": "aab4b31e",
   "metadata": {},
   "outputs": [],
   "source": [
    "checkpoint_filepath = \"hw3_best_model_tensorflow.hdf5\"\n",
    "model_checkpoint_callback = tf.keras.callbacks.ModelCheckpoint(filepath = checkpoint_filepath,\n",
    "                                                                save_weights_only = True,\n",
    "                                                                monitor = \"val_accuracy\",\n",
    "                                                                save_best_only = True)"
   ]
  },
  {
   "cell_type": "code",
   "execution_count": 11,
   "id": "b205dfa5-7a0b-4a95-8108-42f5760e30c3",
   "metadata": {},
   "outputs": [
    {
     "name": "stdout",
     "output_type": "stream",
     "text": [
      "Epoch 1/25\n",
      "1000/1000 [==============================] - 7s 6ms/step - loss: 3.9208 - accuracy: 0.0193 - val_loss: 3.9164 - val_accuracy: 0.0200\n",
      "Epoch 2/25\n",
      "1000/1000 [==============================] - 6s 6ms/step - loss: 3.8171 - accuracy: 0.0377 - val_loss: 3.7192 - val_accuracy: 0.0444\n",
      "Epoch 3/25\n",
      "1000/1000 [==============================] - 6s 6ms/step - loss: 3.7047 - accuracy: 0.0549 - val_loss: 3.6692 - val_accuracy: 0.0600\n",
      "Epoch 4/25\n",
      "1000/1000 [==============================] - 6s 6ms/step - loss: 3.6604 - accuracy: 0.0651 - val_loss: 3.6343 - val_accuracy: 0.0867\n",
      "Epoch 5/25\n",
      "1000/1000 [==============================] - 6s 6ms/step - loss: 3.6168 - accuracy: 0.0705 - val_loss: 3.5919 - val_accuracy: 0.0756\n",
      "Epoch 6/25\n",
      "1000/1000 [==============================] - 6s 6ms/step - loss: 3.5965 - accuracy: 0.0753 - val_loss: 3.5671 - val_accuracy: 0.0733\n",
      "Epoch 7/25\n",
      "1000/1000 [==============================] - 6s 6ms/step - loss: 3.5737 - accuracy: 0.0779 - val_loss: 3.5693 - val_accuracy: 0.0844\n",
      "Epoch 8/25\n",
      "1000/1000 [==============================] - 6s 6ms/step - loss: 3.5522 - accuracy: 0.0823 - val_loss: 3.5609 - val_accuracy: 0.0800\n",
      "Epoch 9/25\n",
      "1000/1000 [==============================] - 6s 6ms/step - loss: 3.5269 - accuracy: 0.0862 - val_loss: 3.5336 - val_accuracy: 0.0889\n",
      "Epoch 10/25\n",
      "1000/1000 [==============================] - 6s 6ms/step - loss: 3.4930 - accuracy: 0.0948 - val_loss: 3.5137 - val_accuracy: 0.0822\n",
      "Epoch 11/25\n",
      "1000/1000 [==============================] - 6s 6ms/step - loss: 3.4545 - accuracy: 0.0999 - val_loss: 3.4797 - val_accuracy: 0.0800\n",
      "Epoch 12/25\n",
      "1000/1000 [==============================] - 6s 6ms/step - loss: 3.4231 - accuracy: 0.1068 - val_loss: 3.4258 - val_accuracy: 0.1133\n",
      "Epoch 13/25\n",
      "1000/1000 [==============================] - 6s 6ms/step - loss: 3.4023 - accuracy: 0.1089 - val_loss: 3.4259 - val_accuracy: 0.1044\n",
      "Epoch 14/25\n",
      "1000/1000 [==============================] - 6s 6ms/step - loss: 3.3827 - accuracy: 0.1134 - val_loss: 3.4188 - val_accuracy: 0.1022\n",
      "Epoch 15/25\n",
      "1000/1000 [==============================] - 6s 6ms/step - loss: 3.3722 - accuracy: 0.1149 - val_loss: 3.3900 - val_accuracy: 0.1067\n",
      "Epoch 16/25\n",
      "1000/1000 [==============================] - 6s 6ms/step - loss: 3.3564 - accuracy: 0.1186 - val_loss: 3.3721 - val_accuracy: 0.1000\n",
      "Epoch 17/25\n",
      "1000/1000 [==============================] - 6s 6ms/step - loss: 3.3474 - accuracy: 0.1208 - val_loss: 3.3737 - val_accuracy: 0.1178\n",
      "Epoch 18/25\n",
      "1000/1000 [==============================] - 6s 6ms/step - loss: 3.3362 - accuracy: 0.1231 - val_loss: 3.3791 - val_accuracy: 0.1133\n",
      "Epoch 19/25\n",
      "1000/1000 [==============================] - 6s 6ms/step - loss: 3.3250 - accuracy: 0.1246 - val_loss: 3.3677 - val_accuracy: 0.1111\n",
      "Epoch 20/25\n",
      "1000/1000 [==============================] - 6s 6ms/step - loss: 3.3167 - accuracy: 0.1262 - val_loss: 3.3760 - val_accuracy: 0.0956\n",
      "Epoch 21/25\n",
      "1000/1000 [==============================] - 6s 6ms/step - loss: 3.3050 - accuracy: 0.1282 - val_loss: 3.3947 - val_accuracy: 0.1133\n",
      "Epoch 22/25\n",
      "1000/1000 [==============================] - 6s 6ms/step - loss: 3.2998 - accuracy: 0.1277 - val_loss: 3.4107 - val_accuracy: 0.1200\n",
      "Epoch 23/25\n",
      "1000/1000 [==============================] - 6s 6ms/step - loss: 3.2862 - accuracy: 0.1315 - val_loss: 3.3498 - val_accuracy: 0.1244\n",
      "Epoch 24/25\n",
      "1000/1000 [==============================] - 6s 6ms/step - loss: 3.2816 - accuracy: 0.1316 - val_loss: 3.3887 - val_accuracy: 0.1022\n",
      "Epoch 25/25\n",
      "1000/1000 [==============================] - 6s 6ms/step - loss: 3.2664 - accuracy: 0.1357 - val_loss: 3.3408 - val_accuracy: 0.1378\n"
     ]
    }
   ],
   "source": [
    "history = model.fit(train_dataset, epochs=25, callbacks=[model_checkpoint_callback], steps_per_epoch=1000, validation_data=val_dataset)"
   ]
  },
  {
   "cell_type": "code",
   "execution_count": 24,
   "id": "1a1118ff",
   "metadata": {},
   "outputs": [
    {
     "data": {
      "text/plain": [
       "Text(0.5, 1.0, 'Train/Validation Accuracy')"
      ]
     },
     "execution_count": 24,
     "metadata": {},
     "output_type": "execute_result"
    },
    {
     "data": {
      "image/png": "[encoded data removed]",
      "text/plain": [
       "<Figure size 1200x500 with 2 Axes>"
      ]
     },
     "metadata": {},
     "output_type": "display_data"
    }
   ],
   "source": [
    "plt.figure(figsize=(12,5))\n",
    "plt.subplot(121)\n",
    "plt.plot(history.history[\"loss\"], label=\"Train\")\n",
    "plt.plot(history.history[\"val_loss\"], label=\"val\")\n",
    "plt.legend()\n",
    "plt.xlabel(\"Epoch\")\n",
    "plt.ylabel(\"Loss\")\n",
    "plt.title(\"Train/Validation loss\")\n",
    "\n",
    "plt.subplot(122)\n",
    "plt.plot(history.history[\"accuracy\"], label=\"Train\")\n",
    "plt.plot(history.history[\"val_accuracy\"], label=\"val\")\n",
    "plt.legend()\n",
    "plt.xlabel(\"Epoch\")\n",
    "plt.ylabel(\"Accuracy\")\n",
    "plt.title(\"Train/Validation Accuracy\")"
   ]
  },
  {
   "cell_type": "code",
   "execution_count": 12,
   "id": "77bba798",
   "metadata": {},
   "outputs": [],
   "source": [
    "# load the best model\n",
    "model.load_weights(checkpoint_filepath)"
   ]
  },
  {
   "cell_type": "code",
   "execution_count": 25,
   "id": "861456e3",
   "metadata": {},
   "outputs": [
    {
     "name": "stdout",
     "output_type": "stream",
     "text": [
      "15/15 [==============================] - 0s 2ms/step\n",
      "Test accuracy: 0.17555555555555555\n",
      "Inference time: 0.08817190000013397s\n"
     ]
    }
   ],
   "source": [
    "st_time = time.perf_counter()\n",
    "pred = model.predict(test_img)\n",
    "ed_time = time.perf_counter()\n",
    "test_acc_count = (np.argmax(pred, axis=1) == np.argmax(test_label, axis=1)).sum()\n",
    "print(\"Test accuracy: {}\".format(test_acc_count/len(test_label)))\n",
    "print(\"Inference time: {}s\".format(ed_time-st_time))"
   ]
  },
  {
   "cell_type": "code",
   "execution_count": 29,
   "id": "67dddea5",
   "metadata": {},
   "outputs": [
    {
     "name": "stdout",
     "output_type": "stream",
     "text": [
      "| Model Profile                    | Value         | Unit    |\n",
      "|----------------------------------|---------------|---------|\n",
      "| Selected GPUs                    | None Detected | GPU IDs |\n",
      "| No. of FLOPs                     | 0.0084        | MFLOPs  |\n",
      "| GPU Memory Requirement           | 0.0011        | GB      |\n",
      "| Model Parameters                 | 0.0651        | Million |\n",
      "| Memory Required by Model Weights | 0.2484        | MB      |\n",
      "WARNING:tensorflow:From c:\\Users\\chy0103\\Miniconda3\\lib\\site-packages\\tensorflow\\python\\ops\\nn_ops.py:5250: tensor_shape_from_node_def_name (from tensorflow.python.framework.graph_util_impl) is deprecated and will be removed in a future version.\n",
      "Instructions for updating:\n",
      "This API was designed for TensorFlow v1. See https://www.tensorflow.org/guide/migrate for instructions on how to migrate your code to TensorFlow v2.\n",
      "FLOPs: 0.027G\n"
     ]
    }
   ],
   "source": [
    "profile = model_profiler(model, Batch_size=32, use_units=[\"GPU IDs\", \"MFLOPs\", \"GB\", \"Million\", \"MB\"])\n",
    "print(profile)\n",
    "\n",
    "flops = get_flops(model, batch_size=32)\n",
    "print(\"FLOPs: {}G\".format(round(flops/10**9,3)))"
   ]
  },
  {
   "attachments": {},
   "cell_type": "markdown",
   "id": "bd3ec859",
   "metadata": {},
   "source": [
    "# Static and Dynamic graph"
   ]
  },
  {
   "cell_type": "code",
   "execution_count": 44,
   "id": "7e72d8f4",
   "metadata": {},
   "outputs": [],
   "source": [
    "# training time\n",
    "@tf.function\n",
    "def model_static(x, y):\n",
    "    y_pred = model(x, training=True)\n",
    "    return y_pred\n",
    "def model_dynamic(x, y):\n",
    "    y_pred = model(x, training=True)\n",
    "    return y_pred"
   ]
  },
  {
   "cell_type": "code",
   "execution_count": 45,
   "id": "0889c85b",
   "metadata": {},
   "outputs": [
    {
     "name": "stdout",
     "output_type": "stream",
     "text": [
      "Static graph training time: 17.08932350000032s\n",
      "Dynamic graph training time: 22.21594079999886s\n"
     ]
    }
   ],
   "source": [
    "print(\"Static graph training time: {}s\".format(timeit.timeit(lambda: model_static(train_img, train_label), number = 10)))\n",
    "print(\"Dynamic graph training time: {}s\".format(timeit.timeit(lambda: model_dynamic(train_img, train_label), number = 10)))"
   ]
  },
  {
   "cell_type": "code",
   "execution_count": 41,
   "id": "ee1b4826",
   "metadata": {},
   "outputs": [],
   "source": [
    "# inference time\n",
    "@tf.function\n",
    "def model_static(x, y):\n",
    "    y_pred = model(x)\n",
    "    loss = tf.losses.MeanSquaredError()(y_pred, y)\n",
    "    return y_pred, loss\n",
    "def model_dynamic(x, y):\n",
    "    y_pred = model(x)\n",
    "    loss = tf.losses.MeanSquaredError()(y_pred, y)\n",
    "    return y_pred, loss"
   ]
  },
  {
   "cell_type": "code",
   "execution_count": 42,
   "id": "54cccd90",
   "metadata": {},
   "outputs": [
    {
     "name": "stdout",
     "output_type": "stream",
     "text": [
      "Static graph inference time: 0.20844320000105654s\n",
      "Dynamic graph inference time: 0.19282299999940733s\n"
     ]
    }
   ],
   "source": [
    "print(\"Static graph inference time: {}s\".format(timeit.timeit(lambda: model_static(test_img, test_label), number = 10)))\n",
    "print(\"Dynamic graph inference time: {}s\".format(timeit.timeit(lambda: model_dynamic(test_img, test_label), number = 10)))"
   ]
  },
  {
   "cell_type": "code",
   "execution_count": null,
   "id": "77d7d9fc",
   "metadata": {},
   "outputs": [],
   "source": []
  }
 ],
 "metadata": {
  "kernelspec": {
   "display_name": "base",
   "language": "python",
   "name": "python3"
  },
  "language_info": {
   "codemirror_mode": {
    "name": "ipython",
    "version": 3
   },
   "file_extension": ".py",
   "mimetype": "text/x-python",
   "name": "python",
   "nbconvert_exporter": "python",
   "pygments_lexer": "ipython3",
   "version": "3.9.12"
  }
 },
 "nbformat": 4,
 "nbformat_minor": 5
}
